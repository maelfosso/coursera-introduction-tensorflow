{
 "cells": [
  {
   "cell_type": "code",
   "execution_count": 1,
   "metadata": {
    "id": "zX4Kg8DUTKWO"
   },
   "outputs": [],
   "source": [
    "#@title Licensed under the Apache License, Version 2.0 (the \"License\");\n",
    "# you may not use this file except in compliance with the License.\n",
    "# You may obtain a copy of the License at\n",
    "#\n",
    "# https://www.apache.org/licenses/LICENSE-2.0\n",
    "#\n",
    "# Unless required by applicable law or agreed to in writing, software\n",
    "# distributed under the License is distributed on an \"AS IS\" BASIS,\n",
    "# WITHOUT WARRANTIES OR CONDITIONS OF ANY KIND, either express or implied.\n",
    "# See the License for the specific language governing permissions and\n",
    "# limitations under the License."
   ]
  },
  {
   "cell_type": "markdown",
   "metadata": {
    "id": "UncprnB0ymAE"
   },
   "source": [
    "Below is code with a link to a happy or sad dataset which contains 80 images, 40 happy and 40 sad.\n",
    "Create a convolutional neural network that trains to 100% accuracy on these images,  which cancels training upon hitting training accuracy of >.999\n",
    "\n",
    "Hint -- it will work best with 3 convolutional layers."
   ]
  },
  {
   "cell_type": "code",
   "execution_count": 3,
   "metadata": {
    "id": "7Vti6p3PxmpS"
   },
   "outputs": [
    {
     "name": "stderr",
     "output_type": "stream",
     "text": [
      "2023-11-21 20:10:17.594220: I tensorflow/core/platform/cpu_feature_guard.cc:193] This TensorFlow binary is optimized with oneAPI Deep Neural Network Library (oneDNN) to use the following CPU instructions in performance-critical operations:  AVX2 FMA\n",
      "To enable them in other operations, rebuild TensorFlow with the appropriate compiler flags.\n"
     ]
    },
    {
     "name": "stdout",
     "output_type": "stream",
     "text": [
      "--2023-11-21 20:10:26--  https://storage.googleapis.com/learning-datasets/happy-or-sad.zip\n",
      "Resolving storage.googleapis.com (storage.googleapis.com)... 142.250.185.27, 142.250.200.155, 142.250.201.91, ...\n",
      "Connecting to storage.googleapis.com (storage.googleapis.com)|142.250.185.27|:443... connected.\n",
      "HTTP request sent, awaiting response... 200 OK\n",
      "Length: 2670333 (2.5M) [application/zip]\n",
      "Saving to: ‘/tmp/happy-or-sad.zip’\n",
      "\n",
      "/tmp/happy-or-sad.z 100%[===================>]   2.55M  1.02MB/s    in 2.5s    \n",
      "\n",
      "2023-11-21 20:10:29 (1.02 MB/s) - ‘/tmp/happy-or-sad.zip’ saved [2670333/2670333]\n",
      "\n"
     ]
    }
   ],
   "source": [
    "import tensorflow as tf\n",
    "import os\n",
    "import zipfile\n",
    "\n",
    "\n",
    "DESIRED_ACCURACY = 0.999\n",
    "\n",
    "!wget --no-check-certificate \\\n",
    "    \"https://storage.googleapis.com/learning-datasets/happy-or-sad.zip\" \\\n",
    "    -O \"/tmp/happy-or-sad.zip\"\n",
    "\n",
    "zip_ref = zipfile.ZipFile(\"/tmp/happy-or-sad.zip\", 'r')\n",
    "zip_ref.extractall(\"/tmp/h-or-s\")\n",
    "zip_ref.close()\n",
    "\n",
    "class myCallback(tf.keras.callbacks.Callback): # Your Code):\n",
    "  # Your Code\n",
    "    def on_epoch_end(self, epoch, logs={}):\n",
    "        if (logs['accuracy'] > .999):\n",
    "            self.model.stop_training = True\n",
    "    \n",
    "\n",
    "callbacks = myCallback()"
   ]
  },
  {
   "cell_type": "code",
   "execution_count": 20,
   "metadata": {
    "id": "6DLGbXXI1j_V"
   },
   "outputs": [],
   "source": [
    "# This Code Block should Define and Compile the Model\n",
    "model = tf.keras.models.Sequential([\n",
    "# Your Code Here\n",
    "    tf.keras.layers.InputLayer(input_shape=(300, 300, 3)),\n",
    "    tf.keras.layers.Conv2D(filters=32, kernel_size=(3,3), activation='relu'),\n",
    "    tf.keras.layers.MaxPooling2D(pool_size=(3,3)),\n",
    "    tf.keras.layers.Flatten(),\n",
    "    tf.keras.layers.Dense(1, activation='sigmoid')\n",
    "])\n",
    "\n",
    "from tensorflow.keras.optimizers import RMSprop\n",
    "\n",
    "model.compile(\n",
    "    loss='binary_crossentropy',\n",
    "    optimizer=RMSprop(learning_rate=0.001),\n",
    "    metrics=['accuracy']\n",
    "    # Your Code Here #\n",
    ")"
   ]
  },
  {
   "cell_type": "code",
   "execution_count": 21,
   "metadata": {
    "id": "4Ap9fUJE1vVu"
   },
   "outputs": [
    {
     "name": "stdout",
     "output_type": "stream",
     "text": [
      "Found 80 images belonging to 2 classes.\n"
     ]
    }
   ],
   "source": [
    "# This code block should create an instance of an ImageDataGenerator called train_datagen\n",
    "# And a train_generator by calling train_datagen.flow_from_directory\n",
    "\n",
    "from tensorflow.keras.preprocessing.image import ImageDataGenerator\n",
    "\n",
    "train_datagen = ImageDataGenerator(rescale=1/255) # Your Code Here\n",
    "\n",
    "train_generator = train_datagen.flow_from_directory(\n",
    "    \"/tmp/h-or-s\",\n",
    "    target_size=(300, 300),\n",
    "    batch_size=16,\n",
    "    class_mode='binary'\n",
    "        # Your Code Here\n",
    ")\n",
    "\n",
    "# Expected output: 'Found 80 images belonging to 2 classes'"
   ]
  },
  {
   "cell_type": "code",
   "execution_count": 22,
   "metadata": {
    "id": "48dLm13U1-Le"
   },
   "outputs": [
    {
     "name": "stdout",
     "output_type": "stream",
     "text": [
      "Epoch 1/10\n",
      "5/5 [==============================] - 2s 244ms/step - loss: 11.9974 - accuracy: 0.4750\n",
      "Epoch 2/10\n",
      "5/5 [==============================] - 1s 221ms/step - loss: 3.0658 - accuracy: 0.6000\n",
      "Epoch 3/10\n",
      "5/5 [==============================] - 1s 216ms/step - loss: 0.7151 - accuracy: 0.8000\n",
      "Epoch 4/10\n",
      "5/5 [==============================] - 1s 218ms/step - loss: 0.1045 - accuracy: 0.9875\n",
      "Epoch 5/10\n",
      "5/5 [==============================] - 1s 216ms/step - loss: 0.4222 - accuracy: 0.8750\n",
      "Epoch 6/10\n",
      "5/5 [==============================] - 1s 220ms/step - loss: 0.7752 - accuracy: 0.9000\n",
      "Epoch 7/10\n",
      "5/5 [==============================] - 1s 218ms/step - loss: 0.0491 - accuracy: 1.0000\n"
     ]
    }
   ],
   "source": [
    "# This code block should call model.fit and train for\n",
    "# a number of epochs.\n",
    "history = model.fit(\n",
    "      # Your Code Here\n",
    "    train_generator,\n",
    "    epochs=10,\n",
    "    callbacks=[callbacks]\n",
    ")\n",
    "\n",
    "# Expected output: \"Reached 99.9% accuracy so cancelling training!\"\""
   ]
  },
  {
   "cell_type": "code",
   "execution_count": null,
   "metadata": {},
   "outputs": [],
   "source": []
  }
 ],
 "metadata": {
  "colab": {
   "name": "Exercise 4-Question.ipynb",
   "provenance": [],
   "toc_visible": true
  },
  "kernelspec": {
   "display_name": "Python 3 (ipykernel)",
   "language": "python",
   "name": "python3"
  },
  "language_info": {
   "codemirror_mode": {
    "name": "ipython",
    "version": 3
   },
   "file_extension": ".py",
   "mimetype": "text/x-python",
   "name": "python",
   "nbconvert_exporter": "python",
   "pygments_lexer": "ipython3",
   "version": "3.9.6"
  }
 },
 "nbformat": 4,
 "nbformat_minor": 4
}
